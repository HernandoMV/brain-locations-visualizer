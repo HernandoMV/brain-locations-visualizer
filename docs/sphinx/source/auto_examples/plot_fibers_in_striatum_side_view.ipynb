{
  "cells": [
    {
      "cell_type": "code",
      "execution_count": null,
      "metadata": {
        "collapsed": false
      },
      "outputs": [],
      "source": [
        "%matplotlib inline"
      ]
    },
    {
      "cell_type": "markdown",
      "metadata": {},
      "source": [
        "\n# plot_fibers_in_striatum_side_view.py\ngenerates a side view of the striatum with the fiber tips\n\n## 1. Import required packages\n"
      ]
    },
    {
      "cell_type": "code",
      "execution_count": null,
      "metadata": {
        "collapsed": false
      },
      "outputs": [],
      "source": [
        "import pandas as pd\nimport numpy as np\nfrom pathlib import Path\nfrom brain_locations_visualizer import config_parser\nfrom brain_locations_visualizer.plotting_functions import generate_side_figure\n\n\n# use the default config file for the documentation\nconfig_file = Path(\"config_for_documentation.json\")\n\n# variables are assigned in the config_parser function\nconfig_parser.config_parser(config_file)\n\n# plot with a different marker the flat fibers and the tapered fibers\n# (this is specified in the mouse name)\nff_marker = \"_\"\ntf_marker = \"|\"\n\n# define the output directory as the parent of the config file\nparent = Path(config_file).parent\n\n# read the file of points\ncoords = pd.read_csv(config_parser.file_path, header=0)\nX = coords.x\nY = coords.y\nAnimal_Name = coords.Mouse_name\n\n# select only the fibers used in the analysis\n# CAREFUL HERE WITH WHERE IS LEFT AND WHERE IS RIGHT!!\n# animals that are not included have a # in front of their name\nanimal_mask = [not an.startswith(\"#\") for an in Animal_Name]\nX = np.array(list(X[animal_mask])).astype(float)\nY = np.array(list(Y[animal_mask])).astype(float)\nAnimal_Name = np.array(list(Animal_Name[animal_mask]))\n\n# plot slices location evenly if the precise slices are not specified\n# in the config file\nif config_parser.sl_list == []:\n    step = int(\n        np.floor(\n            (config_parser.z_limits[1] - config_parser.z_limits[0])\n            / config_parser.n_images\n        )\n    )\n    sl_list = list(\n        range(config_parser.z_limits[0], config_parser.z_limits[1], step)\n    )\n    sl_list = sl_list[-config_parser.n_images :]\n\nelse:\n    sl_list = config_parser.sl_list\n\n# separate animals\nmask_1 = [x.startswith(config_parser.id_1) for x in Animal_Name]\nmask_2 = [x.startswith(config_parser.id_2) for x in Animal_Name]\nmask_other = np.logical_and(\n    [not e for e in mask_1], [not e for e in mask_2]\n)\n\nff_mask = [x.endswith(\"_flat\") for x in Animal_Name]\ntf_mask = [not x for x in ff_mask]\n\ngenerate_side_figure(\n    config_parser,\n    sl_list,\n    X,\n    Y,\n    mask_1,\n    mask_2,\n    mask_other,\n    ff_mask,\n    tf_mask,\n    ff_marker,\n    tf_marker,\n    parent,\n)"
      ]
    }
  ],
  "metadata": {
    "kernelspec": {
      "display_name": "Python 3",
      "language": "python",
      "name": "python3"
    },
    "language_info": {
      "codemirror_mode": {
        "name": "ipython",
        "version": 3
      },
      "file_extension": ".py",
      "mimetype": "text/x-python",
      "name": "python",
      "nbconvert_exporter": "python",
      "pygments_lexer": "ipython3",
      "version": "3.10.8"
    }
  },
  "nbformat": 4,
  "nbformat_minor": 0
}