{
  "cells": [
    {
      "cell_type": "code",
      "execution_count": null,
      "metadata": {
        "collapsed": false
      },
      "outputs": [],
      "source": [
        "%matplotlib inline"
      ]
    },
    {
      "cell_type": "markdown",
      "metadata": {},
      "source": [
        "\n# plot_fiber_tips_2D_striatum.py\ngenerates two figures with the fiber tips in the striatum\n\n## 1. Specify the parameters and files\n1.1 Import required packages\n~~~~~~~~~~~~~~~~~~~~~~~~~~~~\n"
      ]
    },
    {
      "cell_type": "code",
      "execution_count": null,
      "metadata": {
        "collapsed": false
      },
      "outputs": [],
      "source": [
        "import pandas as pd\nimport numpy as np\nfrom pathlib import Path\nimport matplotlib.pyplot as plt\nfrom PIL import Image\nfrom brain_locations_visualizer import config_parser\n\n\ndef plot_fiber_tips_2D_striatum(config_file):\n    # 1.2 Get the parameters by parsing the configuration file\n    # ~~~~~~~~~~~~~~~~~~~~~~~~~~~~~~~~~~~~~~~~~~~~~~~~~~~~~~~~\n\n    # variables are assigned in the config_parser function\n    config_parser.config_parser(config_file)\n\n    # plot with a different marker the flat fibers and the tapered fibers\n    # (this is specified in the mouse name)\n    ff_marker = \"_\"\n    tf_marker = \"|\"\n\n    # define the output directory as the parent of the config file\n    # parent = Path(config_file).parent\n\n    # read the file of points\n    coords = pd.read_csv(config_parser.file_path, header=0)\n    X = coords.x\n    Y = coords.y\n    Z = coords.z\n    Animal_Name = coords.Mouse_name\n\n    # select only the fibers used in the analysis\n    # CAREFUL HERE WITH WHERE IS LEFT AND WHERE IS RIGHT!!\n    # animals that are not included have a # in front of their name\n    animal_mask = [not an.startswith(\"#\") for an in Animal_Name]\n    X = np.array(list(X[animal_mask])).astype(float)\n    Y = np.array(list(Y[animal_mask])).astype(float)\n    Z = np.array(list(Z[animal_mask])).astype(float)\n    Animal_Name = np.array(list(Animal_Name[animal_mask]))\n\n    # This part decides which slices to show\n    # read atlas and get its dimensions\n    atlas = Image.open(config_parser.atlas_path)\n    try:\n        h, w, _ = np.shape(atlas)\n    except Exception:\n        h, w = np.shape(atlas)\n\n    # show images evenly if the precise slices are not specified\n    # in the config file\n    if config_parser.sl_list == []:\n        step = int(\n            np.floor(\n                (config_parser.z_limits[1] - config_parser.z_limits[0])\n                / config_parser.n_images\n            )\n        )\n        sl_list = list(\n            range(config_parser.z_limits[0], config_parser.z_limits[1], step)\n        )\n        sl_list = sl_list[-config_parser.n_images:]\n\n    else:\n        sl_list = config_parser.sl_list\n\n    # Mirror all to the right hemisphere\n    atlas_mid_point = w / 2\n    for i in range(len(Z)):\n        if Z[i] < atlas_mid_point:\n            dist_to_center = atlas_mid_point - Z[i]\n            Z[i] = atlas_mid_point + dist_to_center\n\n    # separate animals\n    mask_1 = [x.startswith(config_parser.id_1) for x in Animal_Name]\n    mask_2 = [x.startswith(config_parser.id_2) for x in Animal_Name]\n    mask_other = np.logical_and(\n        [not e for e in mask_1], [not e for e in mask_2]\n    )\n\n    ff_mask = [x.endswith(\"_flat\") for x in Animal_Name]\n    tf_mask = [not x for x in ff_mask]\n\n    # make the plot\n    fig, ax = plt.subplots(1, 1, figsize=[10, 10])\n    # show striatum outline\n    str_im = Image.open(config_parser.cp_image_path)\n    ax.imshow(str_im)\n    # show where slices are taken from\n    ax.vlines(\n        sl_list,\n        config_parser.y_limits[0],\n        config_parser.y_limits[1],\n        linestyles=\"dotted\",\n        color=\"grey\",\n        alpha=0.3,\n    )\n    # plot points\n    for i in range(len(X)):\n        if mask_1[i]:\n            col = config_parser.color_1\n        if mask_2[i]:\n            col = config_parser.color_2\n        if mask_other[i]:\n            config_parser.color_other\n        if ff_mask[i]:\n            mt = ff_marker\n        if tf_mask[i]:\n            mt = tf_marker\n        ax.plot(\n            X[i],\n            Y[i],\n            mt,\n            color=col,\n            alpha=0.9,\n            markersize=12,\n            markeredgewidth=6,\n        )\n    # ax.plot(X[mask_2], Y[mask_2], 'x', color=color_2,\n    #         alpha=.8, markersize=10, markeredgewidth=4)\n    # ax.plot(X[mask_other], Y[mask_other], 'x', color=color_other,\n    #         alpha=.8, markersize=10, markeredgewidth=4)\n    # add limits of striatum\n    ax.set_ylim(\n        bottom=config_parser.y_limits[0], top=config_parser.y_limits[1]\n    )\n    ax.set_xlim(\n        left=config_parser.z_limits[0], right=config_parser.z_limits[1]\n    )\n    ax.set_aspect(\"equal\", \"box\")\n    ax.invert_yaxis()\n    # convert to mm\n    a = ax.get_xticks().tolist()\n    a = [25 * a[i] / 1000 for i in range(len(a))]\n    ax.set_xticklabels(a, fontsize=18)\n    a = ax.get_yticks().tolist()\n    a = [25 * a[i] / 1000 for i in range(len(a))]\n    ax.set_yticklabels(a, fontsize=18)\n    ax.set_xlabel(\"ARA A-P axis (mm)\", fontsize=22)\n    ax.set_ylabel(\"ARA D-V axis (mm)\", fontsize=22)\n\n    # Hide the right and top spines\n    ax.spines.right.set_visible(False)\n    ax.spines.top.set_visible(False)\n    # plt.savefig(\n    #     parent / \"sideview_plot.pdf\", transparent=True, bbox_inches=\"tight\"\n    # )\n    # plt.show(fig)\n\n    # plot the fibers in the slices\n    fig2, axs = plt.subplots(\n        config_parser.rows,\n        config_parser.cols,\n        figsize=[config_parser.cols * w / 50, config_parser.rows * h / 50],\n    )\n    axs = axs.ravel()\n    for c, i in enumerate(sl_list):\n        atlas.seek(i)\n        axs[c].imshow(atlas)  # , cmap='gray_r')\n        axs[c].axis(\"off\")\n    # fig2.subplots_adjust(wspace=0, hspace=0)\n    fig2.tight_layout()\n\n    # plot the fibers\n    for c, x in enumerate(X):\n        # find the index of the slice that this point is closest to\n        templist = [np.abs(b - x) for b in sl_list]\n        idx = np.argmin(templist)\n        if mask_1[c]:\n            col = config_parser.color_1\n        if mask_2[c]:\n            col = config_parser.color_2\n        if mask_other[c]:\n            col = config_parser.color_other\n        if ff_mask[c]:\n            mt = ff_marker\n        if tf_mask[c]:\n            mt = tf_marker\n        axs[idx].plot(\n            Z[c],\n            Y[c],\n            marker=mt,\n            color=col,\n            alpha=0.8,\n            markersize=15,\n            markeredgewidth=5,\n        )\n    # plt.savefig(\n    #     parent / \"slice_comp_plot.pdf\", transparent=True, bbox_inches=\"tight\"\n    # )\n    # plt.show(fig2)\n\n\nif __name__ == \"__main__\":\n    # use the default config file for the documentation\n    inpath = Path(\"config_for_documentation.json\")\n    plot_fiber_tips_2D_striatum(config_file=inpath)"
      ]
    }
  ],
  "metadata": {
    "kernelspec": {
      "display_name": "Python 3",
      "language": "python",
      "name": "python3"
    },
    "language_info": {
      "codemirror_mode": {
        "name": "ipython",
        "version": 3
      },
      "file_extension": ".py",
      "mimetype": "text/x-python",
      "name": "python",
      "nbconvert_exporter": "python",
      "pygments_lexer": "ipython3",
      "version": "3.10.8"
    }
  },
  "nbformat": 4,
  "nbformat_minor": 0
}