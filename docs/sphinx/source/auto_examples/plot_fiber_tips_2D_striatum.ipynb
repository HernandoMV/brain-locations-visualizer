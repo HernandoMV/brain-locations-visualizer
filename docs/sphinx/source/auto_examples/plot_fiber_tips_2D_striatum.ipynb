{
  "cells": [
    {
      "cell_type": "code",
      "execution_count": null,
      "metadata": {
        "collapsed": false
      },
      "outputs": [],
      "source": [
        "%matplotlib inline"
      ]
    },
    {
      "cell_type": "markdown",
      "metadata": {},
      "source": [
        "\n# plot_fiber_tips_2D_striatum.py\ngenerates two figures with the fiber tips in the striatum\n\n## 1. Specify the parameters and files\n1.1 Import required packages\n~~~~~~~~~~~~~~~~~~~~~~~~~~~~\n"
      ]
    },
    {
      "cell_type": "code",
      "execution_count": null,
      "metadata": {
        "collapsed": false
      },
      "outputs": [],
      "source": [
        "import pandas as pd\nimport numpy as np\nfrom pathlib import Path\nimport matplotlib.pyplot as plt\nfrom PIL import Image\nimport json\nimport sys\n    \ndef plot_fiber_tips_2D_striatum(config_file):\n    # 1.2 Get the parameters by parsing the configuration file\n    # ~~~~~~~~~~~~~~~~~~~~~~~~~~~~~~~~~~~~~~~~~~~~~~~~~~~~~~~~\n\n    # Open the JSON file and read the contents\n    with open(config_file) as f:\n        cdata = json.load(f)\n\n    # Access the variables you want to import\n    data_path = cdata[\"data_path\"]\n    file_path = cdata[\"locations_file\"]\n\n    # get the striatum limits\n    z_limits = cdata[\"z_limits\"]\n    y_limits = cdata[\"y_limits\"]\n\n    # select number of slices to show, rows and cols\n    n_images = cdata[\"n_images\"]\n    rows = cdata[\"rows\"]\n    cols = cdata[\"cols\"]\n\n    # get the identifier to separate mice\n    id_1 = cdata[\"id_1\"]\n    id_2 = cdata[\"id_2\"]\n\n    # get colors for different identifiers\n    color_1 = cdata[\"color_1\"]\n    color_2 = cdata[\"color_2\"]\n    color_other = cdata[\"color_other\"]\n\n    # atlas files paths\n    atlas_path = Path(data_path) / Path(cdata[\"atlas_path\"])\n    cp_image_path = Path(data_path) / Path(cdata[\"cp_image_path\"])\n\n    # plot with a different marker the flat fibers and the tapered fibers (this is specified in the mouse name)\n    ff_marker = '_'\n    tf_marker = '|'\n\n    # define the output directory as the parent of the config file\n    parent = Path(config_file).parent\n\n    # read the file of points\n    coords = pd.read_csv(file_path, header=0)\n    X = coords.x\n    Y = coords.y\n    Z = coords.z\n    Animal_Name = coords.Mouse_name\n\n    # select only the fibers used in the analysis\n    # CAREFUL HERE WITH WHERE IS LEFT AND WHERE IS RIGHT!!\n    # animals that are not included have a # in front of their name\n    animal_mask = [not an.startswith('#') for an in Animal_Name]\n    X = np.array(list(X[animal_mask])).astype(float)\n    Y = np.array(list(Y[animal_mask])).astype(float)\n    Z = np.array(list(Z[animal_mask])).astype(float)\n    Animal_Name = np.array(list(Animal_Name[animal_mask]))\n\n\n    ### This part decides which slices to show\n\n    # Option 1: show images evenly:\n    # read atlas get slice numbers\n    atlas = Image.open(atlas_path)\n    h,w,_ = np.shape(atlas)\n    # decide on the number of images\n    step = int(np.floor((z_limits[1] - z_limits[0]) / n_images))\n    sl_list = list(range(z_limits[0], z_limits[1], step))\n    sl_list = sl_list[-n_images:]\n    # hack\n    # extreme tail focused:\n    # sl_list = [150, 200, 240,\n    #            265, 270, 275,\n    #            280, 285, 290,\n    #            295, 300, 305]\n\n    sl_list = [150, 175, 200,\n            225, 235, 245,\n            255, 265, 275,\n            285, 295, 305]\n\n    # better coverage of NAc:\n    # sl_list = [160, 175, 190,\n    #            205, 235, 245,\n    #            255, 265, 275,\n    #            285, 295, 305]\n\n    # Mirror all to the right hemisphere\n    atlas_mid_point = w/2\n    for i in range(len(Z)):\n        if Z[i] < atlas_mid_point:\n            dist_to_center = atlas_mid_point - Z[i]\n            Z[i] = atlas_mid_point + dist_to_center\n\n    # separate animals\n    mask_1 = [x.startswith(id_1) for x in Animal_Name]\n    mask_2 = [x.startswith(id_2) for x in Animal_Name]\n    mask_other = np.logical_and([not e for e in mask_1],\n                                [not e for e in mask_2])\n\n    ff_mask = [x.endswith('_flat') for x in Animal_Name]\n    tf_mask = [not x for x in ff_mask]\n\n    # make the plot\n    fig, ax = plt.subplots(1, 1, figsize=[10,10])\n    # show striatum outline\n    str_im = Image.open(cp_image_path)\n    ax.imshow(str_im)\n    # show where slices are taken from\n    ax.vlines(sl_list, y_limits[0], y_limits[1],\n            linestyles='dotted', color='grey', alpha=.3)\n    # plot points\n    for i in range(len(X)):\n        if mask_1[i]:\n            col = color_1\n        if mask_2[i]:\n            col = color_2\n        if mask_other[i]:\n            color_other\n        if ff_mask[i]:\n            mt = ff_marker\n        if tf_mask[i]:\n            mt = tf_marker\n        ax.plot(X[i], Y[i], mt, color=col,\n                alpha=.9, markersize=12, markeredgewidth=6)\n    # ax.plot(X[mask_2], Y[mask_2], 'x', color=color_2,\n    #         alpha=.8, markersize=10, markeredgewidth=4)\n    # ax.plot(X[mask_other], Y[mask_other], 'x', color=color_other,\n    #         alpha=.8, markersize=10, markeredgewidth=4)\n    # add limits of striatum\n    ax.set_ylim(bottom=y_limits[0], top=y_limits[1])\n    ax.set_xlim(left=z_limits[0], right=z_limits[1])\n    ax.set_aspect('equal', 'box')\n    ax.invert_yaxis()\n    # convert to mm\n    a=ax.get_xticks().tolist()\n    a= [25 * a[i] / 1000 for i in range(len(a))]\n    ax.set_xticklabels(a, fontsize=18)\n    a=ax.get_yticks().tolist()\n    a= [25 * a[i] / 1000 for i in range(len(a))]\n    ax.set_yticklabels(a, fontsize=18)\n    ax.set_xlabel('ARA A-P axis (mm)', fontsize=22)\n    ax.set_ylabel('ARA D-V axis (mm)', fontsize=22)\n\n    # Hide the right and top spines\n    ax.spines.right.set_visible(False)\n    ax.spines.top.set_visible(False)\n    plt.savefig(parent / 'sideview_plot.pdf',\n                transparent=True, bbox_inches='tight')\n    # plt.show(fig)\n\n    # plot the fibers in the slices\n    fig2, axs = plt.subplots(rows, cols, figsize=[cols * w/50, rows * h/50])\n    axs = axs.ravel()\n    for c,i in enumerate(sl_list):\n        atlas.seek(i)\n        axs[c].imshow(atlas)#, cmap='gray_r')\n        axs[c].axis('off')\n    # fig2.subplots_adjust(wspace=0, hspace=0)\n    fig2.tight_layout()\n\n    # plot the fibers\n    for c,x in enumerate(X):\n        # find the index of the slice that this point is closest to\n        templist = [np.abs(b - x) for b in sl_list]\n        idx = np.argmin(templist)\n        if mask_1[c]:\n            col = color_1\n        if mask_2[c]:\n            col = color_2\n        if mask_other[c]:\n            col = color_other\n        if ff_mask[c]:\n            mt = ff_marker\n        if tf_mask[c]:\n            mt = tf_marker\n        axs[idx].plot(Z[c], Y[c],\n                    marker=mt, color=col, alpha=.8,\n                    markersize=15, markeredgewidth=5)\n    plt.savefig(parent / 'slice_comp_plot.pdf',\n                transparent=True, bbox_inches='tight')\n    # plt.show(fig2)\n\n\nif __name__ == '__main__':\n    # check input\n    if len(sys.argv) not in [1, 2]:\n        sys.exit('Incorrect number of arguments, please run like this:\\\n            python plot_fiber_tips_2D_striatum.py optional:path_to_config_file')\n    \n    if len(sys.argv) == 2:\n        # use the provided config file\n        inpath = sys.argv[2]\n        # run function\n        plot_fiber_tips_2D_striatum(config_file=inpath)\n    else:\n        # use the default config file\n        try:\n            inpath = Path(__file__).parent / '../data/example_config.json'\n        except NameError: # __file__ is not defined (for example when running in jupyter)\n            inpath = Path('../data/example_config.json')\n        plot_fiber_tips_2D_striatum(config_file=inpath)"
      ]
    }
  ],
  "metadata": {
    "kernelspec": {
      "display_name": "Python 3",
      "language": "python",
      "name": "python3"
    },
    "language_info": {
      "codemirror_mode": {
        "name": "ipython",
        "version": 3
      },
      "file_extension": ".py",
      "mimetype": "text/x-python",
      "name": "python",
      "nbconvert_exporter": "python",
      "pygments_lexer": "ipython3",
      "version": "3.10.8"
    }
  },
  "nbformat": 4,
  "nbformat_minor": 0
}