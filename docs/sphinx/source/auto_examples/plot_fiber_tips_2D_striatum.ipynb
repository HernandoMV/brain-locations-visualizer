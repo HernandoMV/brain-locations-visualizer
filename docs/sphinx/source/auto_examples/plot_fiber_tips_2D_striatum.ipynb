{
  "cells": [
    {
      "cell_type": "code",
      "execution_count": null,
      "metadata": {
        "collapsed": false
      },
      "outputs": [],
      "source": [
        "%matplotlib inline"
      ]
    },
    {
      "cell_type": "markdown",
      "metadata": {},
      "source": [
        "\n# plot_fiber_tips_2D_striatum.py\nExplanation...\n\n## 1. Specify the parameters and files\n1.1 Import required packages\n~~~~~~~~~~~~~~~~~~~~~~~~~~~~\n"
      ]
    },
    {
      "cell_type": "code",
      "execution_count": null,
      "metadata": {
        "collapsed": false
      },
      "outputs": [],
      "source": [
        "import pandas as pd\nimport numpy as np\nfrom pathlib import Path\nimport matplotlib.pyplot as plt\nfrom PIL import Image"
      ]
    },
    {
      "cell_type": "markdown",
      "metadata": {},
      "source": [
        "### 1.2 Get the parameters by parsing the configuration file\n\n"
      ]
    },
    {
      "cell_type": "code",
      "execution_count": null,
      "metadata": {
        "collapsed": false
      },
      "outputs": [],
      "source": [
        "# add the striatum limits\nz_limits = [135, 307]\ny_limits = [98, 271]\n\n# file to process\nfile_path = '/home/hernandom/data/Microscopy_Data/Francesca_fiber_histology/Reward-responses/implant_coordinates.txt'\n\n# select number of slices to show, rows and cols\nn_images = 12\nrows = 4\ncols = 3\n\n# select the identifier to separate mice\n# id_1 = 'D1'\n# id_2 = 'D2'\nid_1 = 'tStr'\n# id_2 = 'Nac'\nid_2 = 'SNL'\n\n# select colors\n# for D1 and D2 Arch\n# color_1 = '#87CEEB'\n# color_2 = '#056D6A'\n\n# # photometry and DA stimulation\ncolor_1 = '#002F3A' #tstr\ncolor_2 = '#E95F32'\n\ncolor_other = 'red'\n\n# plot with a different marker the flat fibers and the tapered fibers\nff_marker = '_'\ntf_marker = '|'\n\n\n# atlas files paths\n# atlas_path = '/mnt/c/Users/herny/Desktop/SWC/Data/Anatomy/ARA_25_micron_mhd/template_reversed.tif'\n# atlas_path = '/mnt/c/Users/herny/Desktop/SWC/Data/Anatomy/AllanBrainAtlas_Images/AUDp_projections/Composite_with_atlas_RGB_green.tif'\n# cp_image_path = '/mnt/c/Users/herny/Desktop/SWC/Data/Anatomy/AllanBrainAtlas_Images/Striatum_side_flat_with_AUD1proj_RGB_all.tif'\natlas_path = '/home/hernandom/data/Anatomy/AllanBrainAtlas_Images/AUDp_projections/Composite_with_atlas_RGB_green.tif'\ncp_image_path = '/home/hernandom/data/Anatomy/AllanBrainAtlas_Images/Striatum_side_flat_with_AUD1proj_RGB_all_grey.tif'\n\nfp = Path(file_path)\nparent = fp.parent\n\n# read the file of points\ncoords = pd.read_csv(file_path, header=0)\nX = coords.x\nY = coords.y\nZ = coords.z\nAnimal_Name = coords.Mouse_name\n\n# select only the fibers used in the analysis\n# CAREFUL HERE WITH WHERE IS LEFT AND WHERE IS RIGHT!!\n# animals that are not included have a # in front of their name\nanimal_mask = [not an.startswith('#') for an in Animal_Name]\nX = np.array(list(X[animal_mask])).astype(float)\nY = np.array(list(Y[animal_mask])).astype(float)\nZ = np.array(list(Z[animal_mask])).astype(float)\nAnimal_Name = np.array(list(Animal_Name[animal_mask]))\n\n\n### This part decides which slices to show\n\n# Option 1: show images evenly:\n# read atlas get slice numbers\natlas = Image.open(atlas_path)\nh,w,_ = np.shape(atlas)\n# decide on the number of images\nstep = int(np.floor((z_limits[1] - z_limits[0]) / n_images))\nsl_list = list(range(z_limits[0], z_limits[1], step))\nsl_list = sl_list[-n_images:]\n# hack\n# extreme tail focused:\n# sl_list = [150, 200, 240,\n#            265, 270, 275,\n#            280, 285, 290,\n#            295, 300, 305]\n\nsl_list = [150, 175, 200,\n           225, 235, 245,\n           255, 265, 275,\n           285, 295, 305]\n\n# better coverage of NAc:\n# sl_list = [160, 175, 190,\n#            205, 235, 245,\n#            255, 265, 275,\n#            285, 295, 305]\n\n# Mirror all to the right hemisphere\natlas_mid_point = w/2\nfor i in range(len(Z)):\n    if Z[i] < atlas_mid_point:\n        dist_to_center = atlas_mid_point - Z[i]\n        Z[i] = atlas_mid_point + dist_to_center\n\n# separate animals\nmask_1 = [x.startswith(id_1) for x in Animal_Name]\nmask_2 = [x.startswith(id_2) for x in Animal_Name]\nmask_other = np.logical_and([not e for e in mask_1],\n                            [not e for e in mask_2])\n\nff_mask = [x.endswith('_flat') for x in Animal_Name]\ntf_mask = [not x for x in ff_mask]\n\n# make the plot\nfig, ax = plt.subplots(1, 1, figsize=[10,10])\n# show striatum outline\nstr_im = Image.open(cp_image_path)\nax.imshow(str_im)\n# show where slices are taken from\nax.vlines(sl_list, y_limits[0], y_limits[1],\n          linestyles='dotted', color='grey', alpha=.3)\n# plot points\nfor i in range(len(X)):\n    if mask_1[i]:\n        col = color_1\n    if mask_2[i]:\n        col = color_2\n    if mask_other[i]:\n        color_other\n    if ff_mask[i]:\n        mt = ff_marker\n    if tf_mask[i]:\n        mt = tf_marker\n    ax.plot(X[i], Y[i], mt, color=col,\n            alpha=.9, markersize=12, markeredgewidth=6)\n# ax.plot(X[mask_2], Y[mask_2], 'x', color=color_2,\n#         alpha=.8, markersize=10, markeredgewidth=4)\n# ax.plot(X[mask_other], Y[mask_other], 'x', color=color_other,\n#         alpha=.8, markersize=10, markeredgewidth=4)\n# add limits of striatum\nax.set_ylim(bottom=y_limits[0], top=y_limits[1])\nax.set_xlim(left=z_limits[0], right=z_limits[1])\nax.set_aspect('equal', 'box')\nax.invert_yaxis()\n# convert to mm\na=ax.get_xticks().tolist()\na= [25 * a[i] / 1000 for i in range(len(a))]\nax.set_xticklabels(a, fontsize=18)\na=ax.get_yticks().tolist()\na= [25 * a[i] / 1000 for i in range(len(a))]\nax.set_yticklabels(a, fontsize=18)\nax.set_xlabel('ARA A-P axis (mm)', fontsize=22)\nax.set_ylabel('ARA D-V axis (mm)', fontsize=22)\n\n# Hide the right and top spines\nax.spines.right.set_visible(False)\nax.spines.top.set_visible(False)\nplt.savefig(parent / 'sideview_plot.pdf',\n            transparent=True, bbox_inches='tight')\n# plt.show(fig)"
      ]
    },
    {
      "cell_type": "markdown",
      "metadata": {},
      "source": [
        "### 1.2 xxx\n\n"
      ]
    },
    {
      "cell_type": "code",
      "execution_count": null,
      "metadata": {
        "collapsed": false
      },
      "outputs": [],
      "source": [
        "# plot the fibers in the slices\nfig2, axs = plt.subplots(rows, cols, figsize=[cols * w/50, rows * h/50])\naxs = axs.ravel()\nfor c,i in enumerate(sl_list):\n    atlas.seek(i)\n    axs[c].imshow(atlas)#, cmap='gray_r')\n    axs[c].axis('off')\n# fig2.subplots_adjust(wspace=0, hspace=0)\nfig2.tight_layout()\n\n# plot the fibers\nfor c,x in enumerate(X):\n    # find the index of the slice that this point is closest to\n    templist = [np.abs(b - x) for b in sl_list]\n    idx = np.argmin(templist)\n    if mask_1[c]:\n        col = color_1\n    if mask_2[c]:\n        col = color_2\n    if mask_other[c]:\n        col = color_other\n    if ff_mask[c]:\n        mt = ff_marker\n    if tf_mask[c]:\n        mt = tf_marker\n    axs[idx].plot(Z[c], Y[c],\n                  marker=mt, color=col, alpha=.8,\n                  markersize=15, markeredgewidth=5)\nplt.savefig(parent / 'slice_comp_plot.pdf',\n            transparent=True, bbox_inches='tight')\n# plt.show(fig2)"
      ]
    }
  ],
  "metadata": {
    "kernelspec": {
      "display_name": "Python 3",
      "language": "python",
      "name": "python3"
    },
    "language_info": {
      "codemirror_mode": {
        "name": "ipython",
        "version": 3
      },
      "file_extension": ".py",
      "mimetype": "text/x-python",
      "name": "python",
      "nbconvert_exporter": "python",
      "pygments_lexer": "ipython3",
      "version": "3.10.8"
    }
  },
  "nbformat": 4,
  "nbformat_minor": 0
}