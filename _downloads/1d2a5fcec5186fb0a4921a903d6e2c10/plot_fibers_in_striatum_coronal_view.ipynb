{
  "cells": [
    {
      "cell_type": "code",
      "execution_count": null,
      "metadata": {
        "collapsed": false
      },
      "outputs": [],
      "source": [
        "%matplotlib inline"
      ]
    },
    {
      "cell_type": "markdown",
      "metadata": {},
      "source": [
        "\n# plot_fibers_in_striatum_coronal_view.py\ngenerates a coronal view of the striatum with the fiber tips\n\n## 1. Import required packages\n"
      ]
    },
    {
      "cell_type": "code",
      "execution_count": null,
      "metadata": {
        "collapsed": false
      },
      "outputs": [],
      "source": [
        "import pandas as pd\nimport numpy as np\nfrom pathlib import Path\nfrom PIL import Image\nimport urllib.request\nfrom os.path import exists\nfrom brain_locations_visualizer import config_parser\nfrom brain_locations_visualizer.plotting_functions import generate_coronal_figure"
      ]
    },
    {
      "cell_type": "markdown",
      "metadata": {},
      "source": [
        "## 2. Get the configuration file and define variables\n\n"
      ]
    },
    {
      "cell_type": "code",
      "execution_count": null,
      "metadata": {
        "collapsed": false
      },
      "outputs": [],
      "source": [
        "# use the default config file for the documentation\nconfig_file = Path(\"config_for_documentation.json\")\n\n# variables are assigned in the config_parser function\nconfig_parser.config_parser(config_file)"
      ]
    },
    {
      "cell_type": "markdown",
      "metadata": {},
      "source": [
        "plot with a different marker the flat fibers and the tapered fibers\n(this is specified in the mouse name)\n\n"
      ]
    },
    {
      "cell_type": "code",
      "execution_count": null,
      "metadata": {
        "collapsed": false
      },
      "outputs": [],
      "source": [
        "ff_marker = \"_\"\ntf_marker = \"|\""
      ]
    },
    {
      "cell_type": "markdown",
      "metadata": {},
      "source": [
        "define the output directory as the parent of the config file\n\n"
      ]
    },
    {
      "cell_type": "code",
      "execution_count": null,
      "metadata": {
        "collapsed": false
      },
      "outputs": [],
      "source": [
        "parent = Path(config_file).parent"
      ]
    },
    {
      "cell_type": "markdown",
      "metadata": {},
      "source": [
        "read the file of points\n\n"
      ]
    },
    {
      "cell_type": "code",
      "execution_count": null,
      "metadata": {
        "collapsed": false
      },
      "outputs": [],
      "source": [
        "coords = pd.read_csv(config_parser.file_path, header=0)\nX = coords.x\nY = coords.y\nZ = coords.z\nAnimal_Name = coords.Mouse_name"
      ]
    },
    {
      "cell_type": "markdown",
      "metadata": {},
      "source": [
        "select only the fibers used in the analysis\nCAREFUL HERE WITH WHERE IS LEFT AND WHERE IS RIGHT!!\nanimals that are not included have a # in front of their name\n\n"
      ]
    },
    {
      "cell_type": "code",
      "execution_count": null,
      "metadata": {
        "collapsed": false
      },
      "outputs": [],
      "source": [
        "animal_mask = [not an.startswith(\"#\") for an in Animal_Name]\nX = np.array(list(X[animal_mask])).astype(float)\nY = np.array(list(Y[animal_mask])).astype(float)\nZ = np.array(list(Z[animal_mask])).astype(float)\nAnimal_Name = np.array(list(Animal_Name[animal_mask]))"
      ]
    },
    {
      "cell_type": "markdown",
      "metadata": {},
      "source": [
        "**2.1 This part decides which slices to show**\n\n"
      ]
    },
    {
      "cell_type": "code",
      "execution_count": null,
      "metadata": {
        "collapsed": false
      },
      "outputs": [],
      "source": [
        "# download the atlas from the server into the data folder\nurl = \"https://zenodo.org/record/7501966/files/\" + config_parser.atlas_path.name\n# download if data is not there\nif not exists(config_parser.atlas_path):\n    print('Downloading data...')\n    urllib.request.urlretrieve(url, config_parser.atlas_path)\nelse:\n    print('Data already in directory')"
      ]
    },
    {
      "cell_type": "markdown",
      "metadata": {},
      "source": [
        "read atlas and get its dimensions\n\n"
      ]
    },
    {
      "cell_type": "code",
      "execution_count": null,
      "metadata": {
        "collapsed": false
      },
      "outputs": [],
      "source": [
        "atlas = Image.open(config_parser.atlas_path)\ntry:\n    h, w, _ = np.shape(atlas)\nexcept Exception:\n    h, w = np.shape(atlas)"
      ]
    },
    {
      "cell_type": "markdown",
      "metadata": {},
      "source": [
        "show images evenly if the precise slices are not specified\nin the config file\n\n"
      ]
    },
    {
      "cell_type": "code",
      "execution_count": null,
      "metadata": {
        "collapsed": false
      },
      "outputs": [],
      "source": [
        "if config_parser.sl_list == []:\n    step = int(\n        np.floor(\n            (config_parser.z_limits[1] - config_parser.z_limits[0])\n            / config_parser.n_images\n        )\n    )\n    sl_list = list(\n        range(config_parser.z_limits[0], config_parser.z_limits[1], step)\n    )\n    sl_list = sl_list[-config_parser.n_images :]\n\nelse:\n    sl_list = config_parser.sl_list"
      ]
    },
    {
      "cell_type": "markdown",
      "metadata": {},
      "source": [
        "Mirror all to the right hemisphere (optional)\n\n"
      ]
    },
    {
      "cell_type": "code",
      "execution_count": null,
      "metadata": {
        "collapsed": false
      },
      "outputs": [],
      "source": [
        "atlas_mid_point = w / 2\nfor i in range(len(Z)):\n    if Z[i] < atlas_mid_point:\n        dist_to_center = atlas_mid_point - Z[i]\n        Z[i] = atlas_mid_point + dist_to_center"
      ]
    },
    {
      "cell_type": "markdown",
      "metadata": {},
      "source": [
        "define masks for the different animals and fiber types\n\n"
      ]
    },
    {
      "cell_type": "code",
      "execution_count": null,
      "metadata": {
        "collapsed": false
      },
      "outputs": [],
      "source": [
        "mask_1 = [x.startswith(config_parser.id_1) for x in Animal_Name]\nmask_2 = [x.startswith(config_parser.id_2) for x in Animal_Name]\nmask_other = np.logical_and(\n    [not e for e in mask_1], [not e for e in mask_2]\n)\n\nff_mask = [x.endswith(\"_flat\") for x in Animal_Name]\ntf_mask = [not x for x in ff_mask]"
      ]
    },
    {
      "cell_type": "markdown",
      "metadata": {},
      "source": [
        "## 2. Generate the figure\n\n"
      ]
    },
    {
      "cell_type": "code",
      "execution_count": null,
      "metadata": {
        "collapsed": false
      },
      "outputs": [],
      "source": [
        "generate_coronal_figure(\n    config_parser,\n    sl_list,\n    w,\n    h,\n    atlas,\n    X,\n    Y,\n    Z,\n    mask_1,\n    mask_2,\n    mask_other,\n    ff_mask,\n    tf_mask,\n    ff_marker,\n    tf_marker,\n    parent,\n)"
      ]
    }
  ],
  "metadata": {
    "kernelspec": {
      "display_name": "Python 3",
      "language": "python",
      "name": "python3"
    },
    "language_info": {
      "codemirror_mode": {
        "name": "ipython",
        "version": 3
      },
      "file_extension": ".py",
      "mimetype": "text/x-python",
      "name": "python",
      "nbconvert_exporter": "python",
      "pygments_lexer": "ipython3",
      "version": "3.10.8"
    }
  },
  "nbformat": 4,
  "nbformat_minor": 0
}